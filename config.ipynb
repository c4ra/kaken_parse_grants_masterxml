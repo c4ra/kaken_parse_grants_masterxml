{
 "cells": [
  {
   "cell_type": "markdown",
   "metadata": {},
   "source": [
    "### 他のipynbファイルで使う設定情報を保存する"
   ]
  },
  {
   "cell_type": "code",
   "execution_count": 3,
   "metadata": {},
   "outputs": [],
   "source": [
    "# encoding: utf-8\n",
    "import configparser\n",
    "\n",
    "config = configparser.ConfigParser()\n",
    "config['mariadb'] = {}\n",
    "config['CiNii_web_api'] = {}\n",
    "\n",
    "# 右辺にユーザ名などの値を入力する\n",
    "config['mariadb']['username'] = ''\n",
    "config['mariadb']['password'] = ''\n",
    "config['mariadb']['database'] = ''\n",
    "\n",
    "config['CiNii_web_api']['appid'] = ''\n",
    "\n",
    "with open('config.ini', 'w') as f:\n",
    "    config.write(f)"
   ]
  },
  {
   "cell_type": "code",
   "execution_count": null,
   "metadata": {},
   "outputs": [],
   "source": []
  }
 ],
 "metadata": {
  "kernelspec": {
   "display_name": "Python 3",
   "language": "python",
   "name": "python3"
  },
  "language_info": {
   "codemirror_mode": {
    "name": "ipython",
    "version": 3
   },
   "file_extension": ".py",
   "mimetype": "text/x-python",
   "name": "python",
   "nbconvert_exporter": "python",
   "pygments_lexer": "ipython3",
   "version": "3.6.5"
  }
 },
 "nbformat": 4,
 "nbformat_minor": 2
}
