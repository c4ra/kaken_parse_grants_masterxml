{
 "cells": [
  {
   "cell_type": "markdown",
   "metadata": {},
   "source": [
    "# KAKENの研究分野マスタをローカルのMariaDBに保存するプログラム"
   ]
  },
  {
   "cell_type": "markdown",
   "metadata": {},
   "source": [
    "## 事前準備\n",
    "\n",
    "- KAKENマスタデータは、git のリポジトリで管理されており、最新のデータを利用可能。\n",
    "- https://bitbucket.org/niijp/grants_masterxml_kaken/ からリポジトリを pull して、ローカルの ./grants_masterxml_kaken フォルダに同期しておく。\n",
    "- ローカルで MariaDB を動かしておく。\n",
    "- MariaDB のユーザ名、パスワード、データベース名は、config.ipynbを使って ./config.ini として保存しておく。"
   ]
  },
  {
   "cell_type": "markdown",
   "metadata": {},
   "source": [
    "## ここから本編\n",
    "\n",
    "bitbucketから読み込んだマスタのXMLファイルをelementTreeに変換"
   ]
  },
  {
   "cell_type": "code",
   "execution_count": null,
   "metadata": {},
   "outputs": [],
   "source": [
    "from lxml import etree\n",
    "import pandas as pd\n",
    "import numpy as np\n",
    "\n",
    "tree = etree.parse('grants_masterxml_kaken/field_master_kakenhi.xml')"
   ]
  },
  {
   "cell_type": "code",
   "execution_count": null,
   "metadata": {},
   "outputs": [],
   "source": [
    "fieldlist = []\n",
    "for field_table in tree.iterfind(\"field_table\"):\n",
    "    field_table_type = field_table.get(\"type\")\n",
    "    field_table_start_date = field_table.get(\"start_date\")\n",
    "    field_table_end_date = field_table.get(\"end_date\")\n",
    "    \n",
    "    for field in field_table.iterfind(\"field\"):\n",
    "        field_path = field.get(\"path\")\n",
    "        field_niicode = field.find(\"code[@type='nii']\").text\n",
    "        field_name = field.find(\"name[@lang='ja']\").text\n",
    "        row = [\n",
    "            field_table_type,\n",
    "            field_table_start_date,\n",
    "            field_table_end_date,\n",
    "            field_path,\n",
    "            field_niicode,\n",
    "            field_name,\n",
    "            1,\n",
    "        ]\n",
    "        fieldlist.append(row)\n",
    "\n",
    "        for field in field.iterfind(\"field\"):\n",
    "            field_path = field.get(\"path\")\n",
    "            field_niicode = field.find(\"code[@type='nii']\").text\n",
    "            field_name = field.find(\"name[@lang='ja']\").text\n",
    "            row = [\n",
    "                field_table_type,\n",
    "                field_table_start_date,\n",
    "                field_table_end_date,\n",
    "                field_path,\n",
    "                field_niicode,\n",
    "                field_name,\n",
    "                2,\n",
    "            ]\n",
    "            fieldlist.append(row)\n",
    "                \n",
    "            for field in field.iterfind(\"field\"):\n",
    "                field_path = field.get(\"path\")\n",
    "                field_niicode = field.find(\"code[@type='nii']\").text\n",
    "                field_name = field.find(\"name[@lang='ja']\").text\n",
    "                row = [\n",
    "                    field_table_type,\n",
    "                    field_table_start_date,\n",
    "                    field_table_end_date,\n",
    "                    field_path,\n",
    "                    field_niicode,\n",
    "                    field_name,\n",
    "                    3,\n",
    "                ]\n",
    "                fieldlist.append(row)\n",
    "\n",
    "                for field in field.iterfind(\"field\"):\n",
    "                    field_path = field.get(\"path\")\n",
    "                    field_niicode = field.find(\"code[@type='nii']\").text\n",
    "                    field_name = field.find(\"name[@lang='ja']\").text\n",
    "                    row = [\n",
    "                        field_table_type,\n",
    "                        field_table_start_date,\n",
    "                        field_table_end_date,\n",
    "                        field_path,\n",
    "                        field_niicode,\n",
    "                        field_name,\n",
    "                        4,\n",
    "                    ]\n",
    "                    fieldlist.append(row)\n",
    "            \n",
    "df = pd.DataFrame(fieldlist)\n",
    "df.columns = [\n",
    "    'field_table_type',\n",
    "    'field_table_start_date',\n",
    "    'field_table_end_date',\n",
    "    'field_path',\n",
    "    'field_niicode',\n",
    "    'field_name',\n",
    "    'layer',\n",
    "]"
   ]
  },
  {
   "cell_type": "markdown",
   "metadata": {},
   "source": [
    "重複のデータがあるかどうか"
   ]
  },
  {
   "cell_type": "code",
   "execution_count": null,
   "metadata": {},
   "outputs": [],
   "source": [
    "df.duplicated().any()"
   ]
  },
  {
   "cell_type": "markdown",
   "metadata": {},
   "source": [
    "重複のデータはなかった"
   ]
  },
  {
   "cell_type": "code",
   "execution_count": null,
   "metadata": {},
   "outputs": [],
   "source": [
    "df['field_table_start_date'] = pd.to_datetime(df['field_table_start_date'])\n",
    "df['field_table_end_date'] = pd.to_datetime(df['field_table_end_date'])"
   ]
  },
  {
   "cell_type": "code",
   "execution_count": null,
   "metadata": {},
   "outputs": [],
   "source": [
    "df.info()"
   ]
  },
  {
   "cell_type": "code",
   "execution_count": null,
   "metadata": {},
   "outputs": [],
   "source": [
    "df = df.astype({\n",
    "    'field_niicode': int,\n",
    "    'layer': int,\n",
    "})"
   ]
  },
  {
   "cell_type": "markdown",
   "metadata": {},
   "source": [
    "ローカルのmariaDBに関する設定ファイルを読み込みして、データベースにテーブル構造とデータの中身を書き込む"
   ]
  },
  {
   "cell_type": "code",
   "execution_count": null,
   "metadata": {
    "scrolled": true
   },
   "outputs": [],
   "source": [
    "import configparser\n",
    "\n",
    "config = configparser.ConfigParser()\n",
    "config.read('../settings/config.ini')\n",
    "username = config['mariadb']['username']\n",
    "password = config['mariadb']['password']\n",
    "database = config['mariadb']['database']\n",
    "url = 'mysql+pymysql://' + username + ':' + password + '@localhost:3306/' + database + '?charset=utf8'\n",
    "\n",
    "from sqlalchemy import create_engine\n",
    "from sqlalchemy.types import String, Integer, Date\n",
    "\n",
    "engine = create_engine(url, echo=True)\n",
    "df.to_sql('kaken_master_field', engine, if_exists='replace',\n",
    "          dtype={\n",
    "                'field_table_type' : String(256),\n",
    "                'field_table_start_date' : Date,\n",
    "                'field_table_end_date' : Date,\n",
    "                'field_path' : String(256),\n",
    "                'field_niicode' : Integer,\n",
    "                'field_name' : String(256),\n",
    "                'layer' : Integer,\n",
    "          })"
   ]
  },
  {
   "cell_type": "markdown",
   "metadata": {},
   "source": [
    "## おしまい\n",
    "\n",
    "データがコミットされていれば終了。HeidiSQLなどで、上記ドロップ済みデータフレームの件数が登録されているか確認する。"
   ]
  }
 ],
 "metadata": {
  "kernelspec": {
   "display_name": "Python 3",
   "language": "python",
   "name": "python3"
  },
  "language_info": {
   "codemirror_mode": {
    "name": "ipython",
    "version": 3
   },
   "file_extension": ".py",
   "mimetype": "text/x-python",
   "name": "python",
   "nbconvert_exporter": "python",
   "pygments_lexer": "ipython3",
   "version": "3.6.5"
  }
 },
 "nbformat": 4,
 "nbformat_minor": 2
}
