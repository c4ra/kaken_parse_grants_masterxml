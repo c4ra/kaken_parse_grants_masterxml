{
 "cells": [
  {
   "cell_type": "markdown",
   "metadata": {},
   "source": [
    "## KAKENからダウンロードしたXMLファイルをパースして、ローカルのMariaDBに保存するプログラム\n",
    "\n",
    "### ファイル構成\n",
    "\n",
    "4つのファイルでできています。部品を作る3つのファイルと、3つの部品を統合するファイルです。\n",
    "\n",
    "#### 部品を作る\n",
    "- parse_grantaward_main.ipynb　←いまここ\n",
    " - 研究課題のメインになる部分。課題番号、研究種目、開始年度、終了年度、直接経費金額など\n",
    "- parse_grantaward_institution_from_grantlist.ipynb\n",
    " - 採択年度の研究機関\n",
    "- parse_grantaward_member_from_summary.ipynb\n",
    " - 採択年度の研究代表者\n",
    "\n",
    "#### 課題番号をキーにして、3つの部品を統合して一つのテーブルを作る\n",
    "- parse_grantaward_integration.ipynb\n",
    "\n",
    "### 事前準備\n",
    "- kaken_zenkadai_download.ipynbを実行して、./xmlフォルダにXMLファイルを保存しておいてください。\n",
    "- ここでは、2010年以降のデータを扱うことにしています。\n",
    "\n",
    "### 使い方\n",
    "\n",
    "- 部品を作る3つのファイルを適宜の順序で実行します。それぞれから、./afterCleaningフォルダにデータフレーム（部品）が作られ、pickle形式でファイルを保存します。\n",
    " - parse_kadai.dump\n",
    " - parse_institution_from_grantlist.dump\n",
    " - parse_member_from_summary.dump\n",
    "- 3つの部品ができたら、parse_grantaward_integration.ipynbを実行すると、一つのテーブルに結合してローカルのMariaDBに保存されます。\n",
    "\n",
    "### 今後の予定\n",
    "\n",
    "自分が眺めた範囲では、古い年代ほどデータの欠損など問題があって、前処理が必要な雰囲気なので、新しいところから始めました。時間をみつけて、2010年以前のデータもパースできるようにしたいと思っています。KAKENに研究者番号が入っているのが1985年以降なので、優先順位としてはそこが一つの境目になると思っています。84年以前は、必要に応じてやりましょう。"
   ]
  },
  {
   "cell_type": "markdown",
   "metadata": {},
   "source": [
    "## ここから本編"
   ]
  },
  {
   "cell_type": "code",
   "execution_count": null,
   "metadata": {},
   "outputs": [],
   "source": [
    "# encoding: utf-8\n",
    "from lxml import etree\n",
    "from tqdm import tqdm_notebook as tqdm\n",
    "import pandas as pd\n",
    "import numpy as np\n",
    "import pickle\n",
    "import glob\n",
    "import re"
   ]
  },
  {
   "cell_type": "markdown",
   "metadata": {},
   "source": [
    "研究課題の主な項目をデータフレームにして、pickleして保存する関数を定義する。"
   ]
  },
  {
   "cell_type": "code",
   "execution_count": null,
   "metadata": {
    "scrolled": true
   },
   "outputs": [],
   "source": [
    "def kadai(xmlfile):\n",
    "    tree = etree.parse(xmlfile)\n",
    "    nsmap = {\"xml\": \"http://www.w3.org/XML/1998/namespace\"}\n",
    "    kadailist = []\n",
    "    for grantAward in tree.iterfind(\"grantAward\"):\n",
    "        projecttype = grantAward.get(\"projectType\")\n",
    "        awardnumber = grantAward.get(\"awardNumber\")\n",
    "        startfiscalyear = grantAward.find(\"summary[@xml:lang='ja']/periodOfAward\", nsmap).get(\"searchStartFiscalYear\")\n",
    "        endfiscalyear = grantAward.find(\"summary[@xml:lang='ja']/periodOfAward\", nsmap).get(\"searchEndFiscalYear\")\n",
    "\n",
    "        try:\n",
    "            category_niicode = grantAward.find(\"summary[@xml:lang='ja']/category\", nsmap).get(\"niiCode\")\n",
    "        except:\n",
    "            category_niicode = np.NaN\n",
    "        \n",
    "        try:\n",
    "            category = grantAward.find(\"summary[@xml:lang='ja']/category\", nsmap).text\n",
    "        except:\n",
    "            category = np.NaN\n",
    "            \n",
    "        try:\n",
    "            section_niicode = grantAward.find(\"summary[@xml:lang='ja']/section\", nsmap).get(\"niiCode\")\n",
    "        except:\n",
    "            section_niicode = np.NaN\n",
    "        \n",
    "        try:\n",
    "            section = grantAward.find(\"summary[@xml:lang='ja']/section\", nsmap).text\n",
    "        except:\n",
    "            section = np.NaN\n",
    "\n",
    "        try:\n",
    "            title_ja = grantAward.find(\"summary[@xml:lang='ja']/title\", nsmap).text\n",
    "        except:\n",
    "            title_ja = np.NaN\n",
    "        \n",
    "        try:\n",
    "            title_en = grantAward.find(\"summary[@xml:lang='en']/title\", nsmap).text\n",
    "        except:\n",
    "            title_en = np.NaN\n",
    "        \n",
    "        try:\n",
    "            directcost = grantAward.find(\"summary[@xml:lang='ja']/overallAwardAmount/directCost\", nsmap).text\n",
    "        except:\n",
    "            directcost = np.NaN\n",
    "\n",
    "        row = [\n",
    "            awardnumber,\n",
    "            projecttype,\n",
    "            category,\n",
    "            category_niicode,\n",
    "            section,\n",
    "            section_niicode,\n",
    "            startfiscalyear,\n",
    "            endfiscalyear,\n",
    "            directcost,\n",
    "            title_ja,\n",
    "            title_en,\n",
    "        ]\n",
    "        kadailist.append(row)\n",
    "        \n",
    "    df = pd.DataFrame(kadailist)\n",
    "    df.columns = [\n",
    "        'awardnumber',\n",
    "        'projecttype',\n",
    "        'category',\n",
    "        'category_niicode',\n",
    "        'section',\n",
    "        'section_niicode',\n",
    "        'startfiscalyear',\n",
    "        'endfiscalyear',\n",
    "        'directcost',\n",
    "        'title_ja',\n",
    "        'title_en',\n",
    "    ]\n",
    "    \n",
    "    pickledfile = 'pickledDF_grantaward_main/' + re.search('[0-9]{4}_[0-9]+-[0-9]+.xml', xmlfile).group() + '.dump'\n",
    "    df.to_pickle(pickledfile)"
   ]
  },
  {
   "cell_type": "markdown",
   "metadata": {},
   "source": [
    "フォルダをいったんきれいにする関数を定義して、実行する"
   ]
  },
  {
   "cell_type": "code",
   "execution_count": null,
   "metadata": {},
   "outputs": [],
   "source": [
    "import os\n",
    "import shutil\n",
    "\n",
    "def cleandir(dirname):\n",
    "    if os.path.isdir(dirname):\n",
    "        shutil.rmtree(dirname)\n",
    "    os.mkdir(dirname)\n",
    "\n",
    "cleandir('pickledDF_grantaward_main')"
   ]
  },
  {
   "cell_type": "markdown",
   "metadata": {},
   "source": [
    "2010年以降のxmlファイルをパースして、1個ずつpickleして保存"
   ]
  },
  {
   "cell_type": "code",
   "execution_count": null,
   "metadata": {
    "scrolled": true
   },
   "outputs": [],
   "source": [
    "for xmlfile in tqdm(glob.glob('xml/201*.xml')):\n",
    "    kadai(xmlfile)"
   ]
  },
  {
   "cell_type": "markdown",
   "metadata": {},
   "source": [
    "空のデータフレームを作って…"
   ]
  },
  {
   "cell_type": "code",
   "execution_count": null,
   "metadata": {},
   "outputs": [],
   "source": [
    "columns = [\n",
    "    'awardnumber',\n",
    "    'projecttype',\n",
    "    'category',\n",
    "    'category_niicode',\n",
    "    'section',\n",
    "    'section_niicode',\n",
    "    'startfiscalyear',\n",
    "    'endfiscalyear',\n",
    "    'directcost',\n",
    "    'title_ja',\n",
    "    'title_en',\n",
    "]\n",
    "df = pd.DataFrame(columns=columns)"
   ]
  },
  {
   "cell_type": "markdown",
   "metadata": {},
   "source": [
    "pickleからデータフレームを復元、すべて結合"
   ]
  },
  {
   "cell_type": "code",
   "execution_count": null,
   "metadata": {},
   "outputs": [],
   "source": [
    "for dump in tqdm(glob.glob('pickledDF_grantaward_main/201*.dump')):\n",
    "    with open(dump, mode='rb') as f:\n",
    "        df = pd.concat([df, pickle.load(f)])"
   ]
  },
  {
   "cell_type": "markdown",
   "metadata": {},
   "source": [
    "連結したデータフレームをいったんpickleして保存"
   ]
  },
  {
   "cell_type": "code",
   "execution_count": null,
   "metadata": {},
   "outputs": [],
   "source": [
    "import os\n",
    "os.makedirs('beforeCleaning', exist_ok=True)\n",
    "\n",
    "df.to_pickle('beforeCleaning/parse_grantaward_main.dump')"
   ]
  },
  {
   "cell_type": "markdown",
   "metadata": {},
   "source": [
    "### データクリーニング"
   ]
  },
  {
   "cell_type": "markdown",
   "metadata": {},
   "source": [
    "pickleからデータフレームを復元する"
   ]
  },
  {
   "cell_type": "code",
   "execution_count": null,
   "metadata": {},
   "outputs": [],
   "source": [
    "with open('beforeCleaning/parse_grantaward_main.dump', mode='rb') as f:\n",
    "    df = pickle.load(f)"
   ]
  },
  {
   "cell_type": "markdown",
   "metadata": {},
   "source": [
    "データを概観する"
   ]
  },
  {
   "cell_type": "code",
   "execution_count": null,
   "metadata": {},
   "outputs": [],
   "source": [
    "df"
   ]
  },
  {
   "cell_type": "markdown",
   "metadata": {},
   "source": [
    "重複したデータがあるかどうか"
   ]
  },
  {
   "cell_type": "code",
   "execution_count": null,
   "metadata": {},
   "outputs": [],
   "source": [
    "df.duplicated().any()"
   ]
  },
  {
   "cell_type": "markdown",
   "metadata": {},
   "source": [
    "重複はなかった（あったら何かが違う）。\n",
    "\n",
    "awardnumberがユニークかどうか確認するために、行数255813とawardnumberのユニークな値の数が一致するかどうか確認する。"
   ]
  },
  {
   "cell_type": "code",
   "execution_count": null,
   "metadata": {
    "scrolled": true
   },
   "outputs": [],
   "source": [
    "df['awardnumber'].nunique(dropna=False)"
   ]
  },
  {
   "cell_type": "markdown",
   "metadata": {},
   "source": [
    "awardnumberはユニークだったので（ユニークじゃなかったら何かが違う）、インデックスにする。"
   ]
  },
  {
   "cell_type": "code",
   "execution_count": null,
   "metadata": {},
   "outputs": [],
   "source": [
    "df = df.set_index('awardnumber')\n",
    "df"
   ]
  },
  {
   "cell_type": "markdown",
   "metadata": {},
   "source": [
    "構造を見ておく"
   ]
  },
  {
   "cell_type": "code",
   "execution_count": null,
   "metadata": {},
   "outputs": [],
   "source": [
    "df.info()"
   ]
  },
  {
   "cell_type": "markdown",
   "metadata": {},
   "source": [
    "nullを0に置換しておく。"
   ]
  },
  {
   "cell_type": "code",
   "execution_count": null,
   "metadata": {},
   "outputs": [],
   "source": [
    "df = df.fillna(0)\n",
    "df.info()"
   ]
  },
  {
   "cell_type": "markdown",
   "metadata": {},
   "source": [
    "データ型を指定しておく。"
   ]
  },
  {
   "cell_type": "code",
   "execution_count": null,
   "metadata": {},
   "outputs": [],
   "source": [
    "df = df.astype({\n",
    "    'category_niicode': np.int64,\n",
    "    'section_niicode': np.int64,\n",
    "    'startfiscalyear': np.int64,\n",
    "    'endfiscalyear': np.int64,\n",
    "    'directcost': np.int64,\n",
    "})\n",
    "df.info()"
   ]
  },
  {
   "cell_type": "markdown",
   "metadata": {},
   "source": [
    "directcostを円単位から、千円単位にする。"
   ]
  },
  {
   "cell_type": "code",
   "execution_count": null,
   "metadata": {},
   "outputs": [],
   "source": [
    "df['directcost'] = df['directcost'].map(lambda x: x // 1000)"
   ]
  },
  {
   "cell_type": "markdown",
   "metadata": {},
   "source": [
    "niicodeを精査する"
   ]
  },
  {
   "cell_type": "code",
   "execution_count": null,
   "metadata": {
    "scrolled": true
   },
   "outputs": [],
   "source": [
    "pd.crosstab(df['category_niicode'], df['startfiscalyear'], margins=True)"
   ]
  },
  {
   "cell_type": "markdown",
   "metadata": {},
   "source": [
    "niicodeが0になっているものが9件あった。まず9件のデータを見る。"
   ]
  },
  {
   "cell_type": "code",
   "execution_count": null,
   "metadata": {
    "scrolled": true
   },
   "outputs": [],
   "source": [
    "df[df['category_niicode'] == 0]"
   ]
  },
  {
   "cell_type": "markdown",
   "metadata": {},
   "source": [
    "タイトルなどをgoogle検索したところ、種目が判明した。category_niicodeを代入しておく。"
   ]
  },
  {
   "cell_type": "code",
   "execution_count": null,
   "metadata": {
    "scrolled": false
   },
   "outputs": [],
   "source": [
    "df.loc['22128009', 'category_niicode'] = 73 #  新学術領域研究(研究領域提案型)\n",
    "df.loc['22900002', 'category_niicode'] = 55 #  特別研究推進費\n",
    "df.loc['22900001', 'category_niicode'] = 55 #  特別研究推進費\n",
    "df.loc['11F01767', 'category_niicode'] = 42 #  特別研究員奨励費\n",
    "df.loc['11F01514', 'category_niicode'] = 42 #  特別研究員奨励費\n",
    "df.loc['11F01303', 'category_niicode'] = 42 #  特別研究員奨励費\n",
    "df.loc['23900002', 'category_niicode'] = 55 #  特別研究推進費\n",
    "df.loc['23900001', 'category_niicode'] = 55 #  特別研究推進費\n",
    "df.loc['24900001', 'category_niicode'] = 55 #  特別研究推進費"
   ]
  },
  {
   "cell_type": "markdown",
   "metadata": {},
   "source": [
    "category_niicodeが全部決まったことを確認する。"
   ]
  },
  {
   "cell_type": "code",
   "execution_count": null,
   "metadata": {
    "scrolled": true
   },
   "outputs": [],
   "source": [
    "pd.crosstab(df['category_niicode'], df['startfiscalyear'], margins=True)"
   ]
  },
  {
   "cell_type": "markdown",
   "metadata": {},
   "source": [
    "クリーニング後の課題データフレームをpickleして保存する"
   ]
  },
  {
   "cell_type": "code",
   "execution_count": null,
   "metadata": {},
   "outputs": [],
   "source": [
    "import os\n",
    "os.makedirs('afterCleaning', exist_ok=True)\n",
    "\n",
    "df.to_pickle('afterCleaning/parse_kadai.dump')"
   ]
  },
  {
   "cell_type": "markdown",
   "metadata": {},
   "source": [
    "ひとまず終了。\n",
    "\n",
    "次は、parse_institution.ipynbで内定時の研究機関を取得する。"
   ]
  },
  {
   "cell_type": "code",
   "execution_count": null,
   "metadata": {},
   "outputs": [],
   "source": []
  }
 ],
 "metadata": {
  "kernelspec": {
   "display_name": "Python 3",
   "language": "python",
   "name": "python3"
  },
  "language_info": {
   "codemirror_mode": {
    "name": "ipython",
    "version": 3
   },
   "file_extension": ".py",
   "mimetype": "text/x-python",
   "name": "python",
   "nbconvert_exporter": "python",
   "pygments_lexer": "ipython3",
   "version": "3.6.6"
  }
 },
 "nbformat": 4,
 "nbformat_minor": 2
}
