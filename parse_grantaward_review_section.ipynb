{
 "cells": [
  {
   "cell_type": "markdown",
   "metadata": {},
   "source": [
    "# 審査区分データの取得\n",
    "\n",
    "ダウンロードしたXMLファイルから、課題番号ごとの審査区分データ（review_section）を取得して、ローカルのデータベースに保存します。"
   ]
  },
  {
   "cell_type": "code",
   "execution_count": null,
   "metadata": {},
   "outputs": [],
   "source": [
    "from lxml import etree\n",
    "from tqdm import tqdm_notebook as tqdm\n",
    "import pandas as pd\n",
    "import numpy as np\n",
    "import pickle\n",
    "import glob\n",
    "import sqlalchemy as sa\n",
    "import sqlalchemy.ext.declarative\n",
    "import pymysql\n",
    "import re"
   ]
  },
  {
   "cell_type": "markdown",
   "metadata": {},
   "source": [
    "## 研究課題ごとの審査区分を抽出する関数"
   ]
  },
  {
   "cell_type": "code",
   "execution_count": null,
   "metadata": {},
   "outputs": [],
   "source": [
    "def review_section(xmlfile):\n",
    "    tree = etree.parse(xmlfile)\n",
    "    nsmap = {\"xml\": \"http://www.w3.org/XML/1998/namespace\"}\n",
    "    review_secitonlist = []\n",
    "    for grantAward in tree.iterfind(\"grantAward\"):\n",
    "        awardnumber = grantAward.get(\"awardNumber\")\n",
    "        if grantAward.find(\"summary[@xml:lang='ja']/review_section\", nsmap) is None:\n",
    "            pass\n",
    "        else:\n",
    "            for review_section in grantAward.find(\"summary[@xml:lang='ja']\", nsmap).iterfind(\"review_section\", nsmap):\n",
    "                review_section_sequence = review_section.get(\"sequence\")\n",
    "                review_section_niicode = review_section.get(\"niiCode\")\n",
    "                review_section_table_type = review_section.get(\"tableType\")\n",
    "\n",
    "                row = [\n",
    "                    awardnumber,\n",
    "                    review_section_sequence,\n",
    "                    review_section_niicode,\n",
    "                    review_section_table_type,\n",
    "                ]\n",
    "                review_secitonlist.append(row)\n",
    "            \n",
    "    df = pd.DataFrame(review_secitonlist)\n",
    "    \n",
    "    if len(df.index) > 0:\n",
    "        df.columns = [\n",
    "            'awardnumber',\n",
    "            'review_section_sequence',\n",
    "            'review_section_niicode',\n",
    "            'review_section_table_type',\n",
    "        ]\n",
    "    \n",
    "        pickledfile = 'pickledDF_review_section/' + re.search('[0-9]{4}_[0-9]+-[0-9]+.xml', xmlfile).group() + '.dump'\n",
    "        df.to_pickle(pickledfile)"
   ]
  },
  {
   "cell_type": "markdown",
   "metadata": {},
   "source": [
    "xmlファイルをパースして、pickleして保存"
   ]
  },
  {
   "cell_type": "code",
   "execution_count": null,
   "metadata": {},
   "outputs": [],
   "source": [
    "import os\n",
    "import shutil\n",
    "\n",
    "def cleandir(dirname):\n",
    "    if os.path.isdir(dirname):\n",
    "        shutil.rmtree(dirname)\n",
    "    os.mkdir(dirname)\n",
    "\n",
    "cleandir('pickledDF_review_section')\n",
    "\n",
    "for i in tqdm(range(2018, 2019)):\n",
    "    globdir = 'xml/' + str(i) + '*.xml'\n",
    "    for xmlfile in glob.glob(globdir):\n",
    "        review_section(xmlfile)"
   ]
  },
  {
   "cell_type": "markdown",
   "metadata": {},
   "source": [
    "空のデータフレームを作って…"
   ]
  },
  {
   "cell_type": "code",
   "execution_count": null,
   "metadata": {},
   "outputs": [],
   "source": [
    "columns = [\n",
    "    'awardnumber',\n",
    "    'review_section_sequence',\n",
    "    'review_section_niicode',\n",
    "    'review_section_table_type',\n",
    "]\n",
    "df = pd.DataFrame(columns=columns)"
   ]
  },
  {
   "cell_type": "markdown",
   "metadata": {},
   "source": [
    "pickleからデータフレームを復元、すべて結合"
   ]
  },
  {
   "cell_type": "code",
   "execution_count": null,
   "metadata": {},
   "outputs": [],
   "source": [
    "for dump in tqdm(glob.glob('pickledDF_review_section/*.dump')):\n",
    "    with open(dump, mode='rb') as f:\n",
    "        df = pd.concat([df, pickle.load(f)])"
   ]
  },
  {
   "cell_type": "markdown",
   "metadata": {},
   "source": [
    "連結したデータフレームをいったんpickleして保存"
   ]
  },
  {
   "cell_type": "code",
   "execution_count": null,
   "metadata": {},
   "outputs": [],
   "source": [
    "df.to_pickle('beforeCleaning/parse_review_section.dump')"
   ]
  },
  {
   "cell_type": "markdown",
   "metadata": {},
   "source": [
    "### データクリーニング"
   ]
  },
  {
   "cell_type": "markdown",
   "metadata": {},
   "source": [
    "pickleからデータフレームを復元する"
   ]
  },
  {
   "cell_type": "code",
   "execution_count": null,
   "metadata": {},
   "outputs": [],
   "source": [
    "with open('beforeCleaning/parse_review_section.dump', mode='rb') as f:\n",
    "    df = pickle.load(f)"
   ]
  },
  {
   "cell_type": "code",
   "execution_count": null,
   "metadata": {},
   "outputs": [],
   "source": [
    "df.info()"
   ]
  },
  {
   "cell_type": "markdown",
   "metadata": {},
   "source": [
    "データ型を指定する"
   ]
  },
  {
   "cell_type": "code",
   "execution_count": null,
   "metadata": {},
   "outputs": [],
   "source": [
    "df = df.fillna(0)\n",
    "df = df.astype({\n",
    "    'review_section_sequence': np.int64,\n",
    "    'review_section_niicode': np.int64,\n",
    "})\n",
    "df.info()"
   ]
  },
  {
   "cell_type": "markdown",
   "metadata": {},
   "source": [
    "awardnumberをインデックスに設定する"
   ]
  },
  {
   "cell_type": "code",
   "execution_count": null,
   "metadata": {},
   "outputs": [],
   "source": [
    "df = df.set_index('awardnumber')"
   ]
  },
  {
   "cell_type": "markdown",
   "metadata": {},
   "source": [
    "ローカルのMariaDBに保存する"
   ]
  },
  {
   "cell_type": "code",
   "execution_count": null,
   "metadata": {},
   "outputs": [],
   "source": [
    "import configparser\n",
    "\n",
    "config = configparser.ConfigParser()\n",
    "config.read('../settings/config.ini')\n",
    "username = config['mariadb']['username']\n",
    "password = config['mariadb']['password']\n",
    "database = config['mariadb']['database']\n",
    "url = 'mysql+pymysql://' + username + ':' + password + '@localhost:3306/' + database + '?charset=utf8'"
   ]
  },
  {
   "cell_type": "code",
   "execution_count": null,
   "metadata": {
    "scrolled": true
   },
   "outputs": [],
   "source": [
    "from sqlalchemy import create_engine\n",
    "from sqlalchemy.types import String, Integer\n",
    "\n",
    "engine = create_engine(url, echo=True)\n",
    "\n",
    "df.to_sql('grantaward_review_section', engine, if_exists='replace',\n",
    "      dtype={\n",
    "          'awardnumber': String(256),\n",
    "          'review_section_sequence': Integer,\n",
    "          'review_section_niicode': Integer,\n",
    "          'review_section_table': String(256),\n",
    "      })"
   ]
  },
  {
   "cell_type": "markdown",
   "metadata": {},
   "source": [
    "## おしまい\n",
    "\n",
    "データがコミットされていれば終了。HeidiSQLなどで、上記データフレームの件数が登録されているか確認する。"
   ]
  }
 ],
 "metadata": {
  "kernelspec": {
   "display_name": "Python 3",
   "language": "python",
   "name": "python3"
  },
  "language_info": {
   "codemirror_mode": {
    "name": "ipython",
    "version": 3
   },
   "file_extension": ".py",
   "mimetype": "text/x-python",
   "name": "python",
   "nbconvert_exporter": "python",
   "pygments_lexer": "ipython3",
   "version": "3.6.5"
  }
 },
 "nbformat": 4,
 "nbformat_minor": 2
}
