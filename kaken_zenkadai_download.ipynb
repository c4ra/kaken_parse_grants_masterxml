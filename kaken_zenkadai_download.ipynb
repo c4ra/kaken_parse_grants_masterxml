{
 "cells": [
  {
   "cell_type": "markdown",
   "metadata": {},
   "source": [
    "# KAKENから研究課題のXMLファイルをAPI経由でダウンロードするプログラム"
   ]
  },
  {
   "cell_type": "markdown",
   "metadata": {},
   "source": [
    "## 事前準備\n",
    "\n",
    "+ CiNiiウェブAPIの利用登録を済ませておく。https://support.nii.ac.jp/ja/cinii/api/developer\n",
    "+ 登録が完了したら、アプリケーションID(appid)がメールで通知される\n",
    "+ configparserで別途appidを設定ファイルに書き込んでおく。下のセルは、サンプルのコードです。自分は、セル1個だけの別のnotebookを作っています。"
   ]
  },
  {
   "cell_type": "code",
   "execution_count": null,
   "metadata": {},
   "outputs": [],
   "source": [
    "# encoding: utf-8\n",
    "import configparser\n",
    "\n",
    "config = configparser.ConfigParser()\n",
    "config['mariadb'] = {}\n",
    "config['CiNii_web_api'] = {}\n",
    "\n",
    "# ローカルのMariaDB\n",
    "config['mariadb']['username'] = ''\n",
    "config['mariadb']['password'] = ''\n",
    "config['mariadb']['database'] = ''\n",
    "\n",
    "# CiNii ウェブ API\n",
    "config['CiNii_web_api']['appid'] = '' # 右辺にappid文字列を指定\n",
    "\n",
    "with open('config.ini', 'w') as configfile:\n",
    "    config.write(configfile)"
   ]
  },
  {
   "cell_type": "markdown",
   "metadata": {},
   "source": [
    "## ここから本編\n",
    "\n",
    "各種ライブラリをインポートする"
   ]
  },
  {
   "cell_type": "code",
   "execution_count": null,
   "metadata": {},
   "outputs": [],
   "source": [
    "import requests\n",
    "from bs4 import BeautifulSoup\n",
    "import re\n",
    "import time\n",
    "from tqdm import tqdm_notebook\n",
    "import configparser"
   ]
  },
  {
   "cell_type": "markdown",
   "metadata": {},
   "source": [
    "config.iniから設定項目を読み出す"
   ]
  },
  {
   "cell_type": "code",
   "execution_count": null,
   "metadata": {},
   "outputs": [],
   "source": [
    "config = configparser.ConfigParser()\n",
    "config.read('config.ini')\n",
    "appid = config['CiNii_web_api']['appid']"
   ]
  },
  {
   "cell_type": "markdown",
   "metadata": {},
   "source": [
    "- 前半：スクレイピングで年度ごとの件数を取得する。\n",
    "- 後半：KAKEN API用URLを作成してレスポンスを返し、XMLファイルを保存する。\n",
    "- 1行目のrangeで適宜の年度を指定してください。\n",
    "- カレントディレクトリにxmlフォルダが作成され、そこにXMLファイルが保存されます。\n",
    "\n",
    "ほんとは、関数を定義するのが普通ですが、以前にこれで作って動くので、ひとまずこのまま公開します。時間があれば手直ししたいところ。"
   ]
  },
  {
   "cell_type": "code",
   "execution_count": null,
   "metadata": {},
   "outputs": [],
   "source": [
    "for year in tqdm_notebook(range(1964, 2019)):\n",
    "    KAKEN_ROOT_URL = 'https://kaken.nii.ac.jp/opensearch/?appid=' + appid\n",
    "    rw = 500\n",
    "\n",
    "    \"\"\"ある年度の件数を取得する。\"\"\"\n",
    "    #URL生成\n",
    "    url = KAKEN_ROOT_URL + '&format=xhtml' + '&s1=' + str(year) + '&s2=' + str(year) + '&o1=1'\n",
    "\n",
    "    r = requests.get(url)\n",
    "    html = r.text\n",
    "\n",
    "    soup = BeautifulSoup(html, \"lxml\")\n",
    "    tag = soup.select(\"p.search-term-selected\")\n",
    "    p = str(tag[0])\n",
    "\n",
    "    #数字＝件数を抽出する\n",
    "    pattern = r'([+-]?[0-9]+\\,?[0-9]*)'\n",
    "    numberlist = re.findall(pattern,p)\n",
    "    cnt = str(numberlist[0])\n",
    "    cnt = int(cnt.replace(',', ''))\n",
    "    #cnt\n",
    "    \n",
    "    for start in tqdm_notebook(range(1, cnt, rw)):\n",
    "        \"\"\"KAKEN API用URLを作成してレスポンスを返す。ファイルを保存する\"\"\"\n",
    "        if start + rw > cnt:\n",
    "            end = cnt\n",
    "        else:\n",
    "            end = start + rw - 1\n",
    "\n",
    "        url = KAKEN_ROOT_URL + '&format=xml' + '&s1=' + str(year) + '&s2=' + str(year) + '&o1=1' + '&st=' + str(start) + '&rw=' + str(rw)\n",
    "        r = requests.get(url)\n",
    "        if r.status_code == 200:\n",
    "            filename = 'xml/' + str(year) + '_' + str(start) + '-' + str(end) + '.xml'\n",
    "            with open(filename, mode='w',encoding = 'utf-8') as f:\n",
    "                f.write(r.text)"
   ]
  },
  {
   "cell_type": "markdown",
   "metadata": {
    "collapsed": true
   },
   "source": [
    "## おしまい\n",
    "\n",
    "xmlフォルダを確認し、各年度のファイルが保存されていればOK！"
   ]
  }
 ],
 "metadata": {
  "kernelspec": {
   "display_name": "Python 3",
   "language": "python",
   "name": "python3"
  },
  "language_info": {
   "codemirror_mode": {
    "name": "ipython",
    "version": 3
   },
   "file_extension": ".py",
   "mimetype": "text/x-python",
   "name": "python",
   "nbconvert_exporter": "python",
   "pygments_lexer": "ipython3",
   "version": "3.6.5"
  }
 },
 "nbformat": 4,
 "nbformat_minor": 2
}
