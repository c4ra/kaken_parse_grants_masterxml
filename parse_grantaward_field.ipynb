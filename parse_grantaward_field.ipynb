{
 "cells": [
  {
   "cell_type": "markdown",
   "metadata": {},
   "source": [
    "# 分野データの取得\n",
    "\n",
    "ダウンロードしたXMLファイルから、課題番号ごとの分野・分科・細目のデータ（field）を取得して、ローカルのデータベースに保存します。"
   ]
  },
  {
   "cell_type": "code",
   "execution_count": null,
   "metadata": {},
   "outputs": [],
   "source": [
    "from lxml import etree\n",
    "from tqdm import tqdm_notebook as tqdm\n",
    "import pandas as pd\n",
    "import numpy as np\n",
    "import pickle\n",
    "import glob\n",
    "import sqlalchemy as sa\n",
    "import sqlalchemy.ext.declarative\n",
    "import pymysql\n",
    "import re"
   ]
  },
  {
   "cell_type": "markdown",
   "metadata": {},
   "source": [
    "## 研究課題ごとの研究分野（細目など）を抽出する関数\n",
    "\n",
    "とりあえず、1985年度から2017年度まで、エラーなく回せるように作ってあります。\n",
    "\n",
    "でも、もっとデータの構造をよく見たほうがよさそう。ここでは2014年度から2017年度（細目の動きがなかった期間）だけでやっています。"
   ]
  },
  {
   "cell_type": "code",
   "execution_count": null,
   "metadata": {},
   "outputs": [],
   "source": [
    "def field(xmlfile):\n",
    "    tree = etree.parse(xmlfile)\n",
    "    nsmap = {\"xml\": \"http://www.w3.org/XML/1998/namespace\"}\n",
    "    fieldlist = []\n",
    "    for grantAward in tree.iterfind(\"grantAward\"):\n",
    "        awardnumber = grantAward.get(\"awardNumber\")\n",
    "        if grantAward.find(\"summary[@xml:lang='ja']/field\", nsmap) is None:\n",
    "            pass\n",
    "        else:\n",
    "            for field in grantAward.find(\"summary[@xml:lang='ja']\", nsmap).iterfind(\"field\", nsmap):\n",
    "                field_sequence = field.get(\"sequence\")\n",
    "                field_path = field.get(\"path\")\n",
    "                field_niicode = field.get(\"niiCode\")\n",
    "                field_table = field.get(\"fieldTable\")\n",
    "\n",
    "                row = [\n",
    "                    awardnumber,\n",
    "                    field_sequence,\n",
    "                    field_path,\n",
    "                    field_niicode,\n",
    "                    field_table,\n",
    "                ]\n",
    "                fieldlist.append(row)\n",
    "            \n",
    "    df = pd.DataFrame(fieldlist)\n",
    "    \n",
    "    if len(df.index) > 0:\n",
    "        df.columns = [\n",
    "            'awardnumber',\n",
    "            'field_sequence',\n",
    "            'field_path',\n",
    "            'field_niicode',\n",
    "            'field_table',\n",
    "        ]\n",
    "    \n",
    "        pickledfile = 'pickledDF_field/' + re.search('[0-9]{4}_[0-9]+-[0-9]+.xml', xmlfile).group() + '.dump'\n",
    "        df.to_pickle(pickledfile)"
   ]
  },
  {
   "cell_type": "markdown",
   "metadata": {},
   "source": [
    "xmlファイルをパースして、pickleして保存"
   ]
  },
  {
   "cell_type": "code",
   "execution_count": null,
   "metadata": {},
   "outputs": [],
   "source": [
    "import os\n",
    "import shutil\n",
    "\n",
    "def cleandir(dirname):\n",
    "    if os.path.isdir(dirname):\n",
    "        shutil.rmtree(dirname)\n",
    "    os.mkdir(dirname)\n",
    "\n",
    "cleandir('pickledDF_field')\n",
    "\n",
    "for i in tqdm(range(2014, 2018)):\n",
    "    globdir = 'xml/' + str(i) + '*.xml'\n",
    "    for xmlfile in tqdm(glob.glob(globdir)):\n",
    "        field(xmlfile)"
   ]
  },
  {
   "cell_type": "markdown",
   "metadata": {},
   "source": [
    "空のデータフレームを作って…"
   ]
  },
  {
   "cell_type": "code",
   "execution_count": null,
   "metadata": {},
   "outputs": [],
   "source": [
    "columns = [\n",
    "        'awardnumber',\n",
    "        'field_sequence',\n",
    "        'field_path',\n",
    "        'field_niicode',\n",
    "        'field_table',\n",
    "]\n",
    "df = pd.DataFrame(columns=columns)"
   ]
  },
  {
   "cell_type": "markdown",
   "metadata": {},
   "source": [
    "pickleからデータフレームを復元、すべて結合"
   ]
  },
  {
   "cell_type": "code",
   "execution_count": null,
   "metadata": {},
   "outputs": [],
   "source": [
    "for dump in tqdm(glob.glob('pickledDF_field/*.dump')):\n",
    "    with open(dump, mode='rb') as f:\n",
    "        df = pd.concat([df, pickle.load(f)])"
   ]
  },
  {
   "cell_type": "markdown",
   "metadata": {},
   "source": [
    "カレントディレクトリにbeforeCleaningフォルダを作ります。"
   ]
  },
  {
   "cell_type": "code",
   "execution_count": null,
   "metadata": {},
   "outputs": [],
   "source": [
    "import os\n",
    "\n",
    "dirname = 'beforeCleaning'\n",
    "if os.path.isdir(dirname) is False:\n",
    "    os.mkdir(dirname)\n",
    "    print('作成しました')\n",
    "else:\n",
    "    print('既に作成されています')    "
   ]
  },
  {
   "cell_type": "markdown",
   "metadata": {},
   "source": [
    "連結したデータフレームをいったんpickleして保存"
   ]
  },
  {
   "cell_type": "code",
   "execution_count": null,
   "metadata": {},
   "outputs": [],
   "source": [
    "df.to_pickle('beforeCleaning/parse_field.dump')"
   ]
  },
  {
   "cell_type": "markdown",
   "metadata": {},
   "source": [
    "### データクリーニング"
   ]
  },
  {
   "cell_type": "markdown",
   "metadata": {},
   "source": [
    "pickleからデータフレームを復元する"
   ]
  },
  {
   "cell_type": "code",
   "execution_count": null,
   "metadata": {},
   "outputs": [],
   "source": [
    "with open('beforeCleaning/parse_field.dump', mode='rb') as f:\n",
    "    df = pickle.load(f)"
   ]
  },
  {
   "cell_type": "code",
   "execution_count": null,
   "metadata": {},
   "outputs": [],
   "source": [
    "df.info()"
   ]
  },
  {
   "cell_type": "markdown",
   "metadata": {},
   "source": [
    "データ型を指定する"
   ]
  },
  {
   "cell_type": "code",
   "execution_count": null,
   "metadata": {},
   "outputs": [],
   "source": [
    "df = df.fillna(0)\n",
    "df = df.astype({\n",
    "    'field_sequence': np.int64,\n",
    "    'field_niicode': np.int64,\n",
    "})\n",
    "df.info()"
   ]
  },
  {
   "cell_type": "markdown",
   "metadata": {},
   "source": [
    "細目選択数のカラムを作る。\n",
    "\n",
    "2013-2017の若手Bでは複数細目を選択できたので、分野別に集計する際は分野ごとに按分する必要があるため。"
   ]
  },
  {
   "cell_type": "code",
   "execution_count": null,
   "metadata": {},
   "outputs": [],
   "source": [
    "df['saimokusentakusuu'] = 1\n",
    "df"
   ]
  },
  {
   "cell_type": "code",
   "execution_count": null,
   "metadata": {},
   "outputs": [],
   "source": [
    "fukusuusaimokukadai_list = df[df['field_sequence'] == 2].awardnumber.unique()\n",
    "len(fukusuusaimokukadai_list)"
   ]
  },
  {
   "cell_type": "code",
   "execution_count": null,
   "metadata": {},
   "outputs": [],
   "source": [
    "df.loc[df['awardnumber'].isin(fukusuusaimokukadai_list), 'saimokusentakusuu'] = 2\n",
    "df[df['saimokusentakusuu'] == 2]"
   ]
  },
  {
   "cell_type": "markdown",
   "metadata": {},
   "source": [
    "awardnumberあたり8行になる。3565 * 8 == 28520 になっていたので特に問題なし。"
   ]
  },
  {
   "cell_type": "markdown",
   "metadata": {},
   "source": [
    "awardnumberをインデックスに設定する"
   ]
  },
  {
   "cell_type": "code",
   "execution_count": null,
   "metadata": {},
   "outputs": [],
   "source": [
    "df = df.set_index('awardnumber')"
   ]
  },
  {
   "cell_type": "code",
   "execution_count": null,
   "metadata": {},
   "outputs": [],
   "source": [
    "df"
   ]
  },
  {
   "cell_type": "markdown",
   "metadata": {},
   "source": [
    "ローカルのMariaDBに保存する"
   ]
  },
  {
   "cell_type": "code",
   "execution_count": null,
   "metadata": {},
   "outputs": [],
   "source": [
    "import configparser\n",
    "\n",
    "config = configparser.ConfigParser()\n",
    "config.read('../settings/config.ini')\n",
    "username = config['mariadb']['username']\n",
    "password = config['mariadb']['password']\n",
    "database = config['mariadb']['database']\n",
    "url = 'mysql+pymysql://' + username + ':' + password + '@localhost:3306/' + database + '?charset=utf8'"
   ]
  },
  {
   "cell_type": "code",
   "execution_count": null,
   "metadata": {
    "scrolled": true
   },
   "outputs": [],
   "source": [
    "from sqlalchemy import create_engine\n",
    "from sqlalchemy.types import String, Integer\n",
    "\n",
    "engine = create_engine(url, echo=True)\n",
    "\n",
    "df.to_sql('grantaward_field', engine, if_exists='replace',\n",
    "      dtype={\n",
    "          'awardnumber': String(256),\n",
    "          'field_sequence': Integer,\n",
    "          'field_path': String(256),\n",
    "          'field_niicode': Integer,\n",
    "          'field_table': String(256),\n",
    "      })"
   ]
  },
  {
   "cell_type": "markdown",
   "metadata": {},
   "source": [
    "## おしまい\n",
    "\n",
    "データがコミットされていれば終了。HeidiSQLなどで、上記データフレームの件数が登録されているか確認する。"
   ]
  }
 ],
 "metadata": {
  "kernelspec": {
   "display_name": "Python 3",
   "language": "python",
   "name": "python3"
  },
  "language_info": {
   "codemirror_mode": {
    "name": "ipython",
    "version": 3
   },
   "file_extension": ".py",
   "mimetype": "text/x-python",
   "name": "python",
   "nbconvert_exporter": "python",
   "pygments_lexer": "ipython3",
   "version": "3.6.6"
  }
 },
 "nbformat": 4,
 "nbformat_minor": 2
}
