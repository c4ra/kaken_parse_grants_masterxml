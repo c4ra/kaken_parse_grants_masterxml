{
 "cells": [
  {
   "cell_type": "markdown",
   "metadata": {},
   "source": [
    "## KAKENからダウンロードしたXMLファイルをパースして、ローカルのMariaDBに保存するプログラム\n",
    "\n",
    "### ファイル構成\n",
    "\n",
    "4つのファイルでできています。部品を作る3つのファイルと、3つの部品を統合するファイルです。\n",
    "\n",
    "#### 部品を作る\n",
    "- parse_grantaward_main.ipynb\n",
    " - 研究課題のメインになる部分。課題番号、研究種目、開始年度、終了年度、直接経費金額など\n",
    "- parse_grantaward_institution_from_grantlist.ipynb\n",
    " - 採択年度の研究機関\n",
    "- parse_grantaward_member_from_summary.ipynb\n",
    " - 採択年度の研究代表者\n",
    "\n",
    "#### 課題番号をキーにして、3つの部品を統合して一つのテーブルを作る\n",
    "- parse_grantaward_integration.ipynb　←いまここ\n",
    "\n",
    "### 事前準備\n",
    "- kaken_zenkadai_download.ipynbを実行して、./xmlフォルダにXMLファイルを保存しておいてください。\n",
    "- ここでは、2010年以降のデータを扱うことにしています。\n",
    "\n",
    "### 使い方\n",
    "\n",
    "- 部品を作る3つのファイルを適宜の順序で実行します。それぞれから、./afterCleaningフォルダにデータフレーム（部品）が作られ、pickle形式でファイルを保存します。\n",
    " - parse_kadai.dump\n",
    " - parse_institution_from_grantlist.dump\n",
    " - parse_member_from_summary.dump\n",
    "- 3つの部品ができたら、parse_grantaward_integration.ipynbを実行すると、一つのテーブルに結合してローカルのMariaDBに保存されます。\n",
    "\n",
    "### 今後の予定\n",
    "\n",
    "自分が眺めた範囲では、古い年代ほどデータの欠損など問題があって、前処理が必要な雰囲気なので、新しいところから始めました。時間をみつけて、2010年以前のデータもパースできるようにしたいと思っています。KAKENに研究者番号が入っているのが1985年以降なので、優先順位としてはそこが一つの境目になると思っています。84年以前は、必要に応じてやりましょう。"
   ]
  },
  {
   "cell_type": "markdown",
   "metadata": {},
   "source": [
    "## 課題と機関と研究代表者をつなぐ"
   ]
  },
  {
   "cell_type": "code",
   "execution_count": null,
   "metadata": {},
   "outputs": [],
   "source": [
    "# encoding: utf-8\n",
    "import pandas as pd\n",
    "import numpy as np\n",
    "import pickle"
   ]
  },
  {
   "cell_type": "markdown",
   "metadata": {},
   "source": [
    "### 課題を読み込む"
   ]
  },
  {
   "cell_type": "code",
   "execution_count": null,
   "metadata": {},
   "outputs": [],
   "source": [
    "with open('afterCleaning/parse_kadai.dump', 'rb') as f:\n",
    "    kadai = pickle.load(f)"
   ]
  },
  {
   "cell_type": "code",
   "execution_count": null,
   "metadata": {},
   "outputs": [],
   "source": [
    "kadai"
   ]
  },
  {
   "cell_type": "code",
   "execution_count": null,
   "metadata": {
    "scrolled": true
   },
   "outputs": [],
   "source": [
    "kadai = kadai[['category_niicode', 'section_niicode','startfiscalyear', 'directcost']]\n",
    "kadai"
   ]
  },
  {
   "cell_type": "markdown",
   "metadata": {},
   "source": [
    "### 研究機関を読み込む"
   ]
  },
  {
   "cell_type": "code",
   "execution_count": null,
   "metadata": {},
   "outputs": [],
   "source": [
    "with open('afterCleaning/parse_institution_from_grantlist.dump', 'rb') as f:\n",
    "    institution = pickle.load(f)"
   ]
  },
  {
   "cell_type": "code",
   "execution_count": null,
   "metadata": {},
   "outputs": [],
   "source": [
    "institution"
   ]
  },
  {
   "cell_type": "code",
   "execution_count": null,
   "metadata": {
    "scrolled": true
   },
   "outputs": [],
   "source": [
    "institution = institution[['institution_niicode']]\n",
    "institution"
   ]
  },
  {
   "cell_type": "markdown",
   "metadata": {},
   "source": [
    "### 研究代表者を読み込む"
   ]
  },
  {
   "cell_type": "code",
   "execution_count": null,
   "metadata": {},
   "outputs": [],
   "source": [
    "with open('afterCleaning/parse_member_from_summary.dump', 'rb') as f:\n",
    "    member = pickle.load(f)"
   ]
  },
  {
   "cell_type": "code",
   "execution_count": null,
   "metadata": {},
   "outputs": [],
   "source": [
    "member"
   ]
  },
  {
   "cell_type": "code",
   "execution_count": null,
   "metadata": {
    "scrolled": true
   },
   "outputs": [],
   "source": [
    "member = member[['kenkyuusha_id']]\n",
    "member"
   ]
  },
  {
   "cell_type": "markdown",
   "metadata": {},
   "source": [
    "### 課題と機関と研究代表者をJOINする"
   ]
  },
  {
   "cell_type": "code",
   "execution_count": null,
   "metadata": {
    "scrolled": true
   },
   "outputs": [],
   "source": [
    "df = kadai.join(institution)\n",
    "df = df.join(member)\n",
    "df"
   ]
  },
  {
   "cell_type": "code",
   "execution_count": null,
   "metadata": {},
   "outputs": [],
   "source": [
    "df.info()"
   ]
  },
  {
   "cell_type": "code",
   "execution_count": null,
   "metadata": {},
   "outputs": [],
   "source": [
    "df = df.fillna(0)\n",
    "df.info()"
   ]
  },
  {
   "cell_type": "code",
   "execution_count": null,
   "metadata": {},
   "outputs": [],
   "source": [
    "df = df.astype({\n",
    "    'kenkyuusha_id': np.int64\n",
    "})\n",
    "df.info()"
   ]
  },
  {
   "cell_type": "code",
   "execution_count": null,
   "metadata": {
    "scrolled": true
   },
   "outputs": [],
   "source": [
    "df"
   ]
  },
  {
   "cell_type": "markdown",
   "metadata": {},
   "source": [
    "ローカルのMariaDBに保存する"
   ]
  },
  {
   "cell_type": "code",
   "execution_count": null,
   "metadata": {},
   "outputs": [],
   "source": [
    "import configparser\n",
    "\n",
    "config = configparser.ConfigParser()\n",
    "config.read('config.ini')\n",
    "username = config['mariadb']['username']\n",
    "password = config['mariadb']['password']\n",
    "database = config['mariadb']['database']\n",
    "url = 'mysql+pymysql://' + username + ':' + password + '@localhost:3306/' + database + '?charset=utf8'"
   ]
  },
  {
   "cell_type": "code",
   "execution_count": null,
   "metadata": {
    "scrolled": true
   },
   "outputs": [],
   "source": [
    "from sqlalchemy import create_engine\n",
    "from sqlalchemy.types import String, Integer\n",
    "\n",
    "engine = create_engine(url, echo=True)\n",
    "\n",
    "df.to_sql('grantaward', engine, if_exists='replace',\n",
    "          dtype={\n",
    "              'awardnumber': String(256),\n",
    "              'category_niicode': Integer,\n",
    "              'section': String(256),\n",
    "              'startfiscalyear': Integer,\n",
    "              'directcost': Integer,\n",
    "              'niicode': Integer,\n",
    "              'kenkyuusha_id': Integer,                 \n",
    "                })"
   ]
  },
  {
   "cell_type": "markdown",
   "metadata": {},
   "source": [
    "全データの保存に5秒くらいかかる。無事にコミットできたら終了。あとは分析に使う。"
   ]
  }
 ],
 "metadata": {
  "kernelspec": {
   "display_name": "Python 3",
   "language": "python",
   "name": "python3"
  },
  "language_info": {
   "codemirror_mode": {
    "name": "ipython",
    "version": 3
   },
   "file_extension": ".py",
   "mimetype": "text/x-python",
   "name": "python",
   "nbconvert_exporter": "python",
   "pygments_lexer": "ipython3",
   "version": "3.6.6"
  }
 },
 "nbformat": 4,
 "nbformat_minor": 2
}
