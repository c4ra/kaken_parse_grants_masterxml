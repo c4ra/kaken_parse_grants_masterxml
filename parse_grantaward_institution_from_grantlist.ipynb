{
 "cells": [
  {
   "cell_type": "markdown",
   "metadata": {},
   "source": [
    "## KAKENからダウンロードしたXMLファイルをパースして、ローカルのMariaDBに保存するプログラム\n",
    "\n",
    "### ファイル構成\n",
    "\n",
    "4つのファイルでできています。部品を作る3つのファイルと、3つの部品を統合するファイルです。\n",
    "\n",
    "#### 部品を作る\n",
    "- parse_grantaward_main.ipynb\n",
    " - 研究課題のメインになる部分。課題番号、研究種目、開始年度、終了年度、直接経費金額など\n",
    "- parse_grantaward_institution_from_grantlist.ipynb　←いまここ\n",
    " - 採択年度の研究機関\n",
    "- parse_grantaward_member_from_summary.ipynb\n",
    " - 採択年度の研究代表者\n",
    "\n",
    "#### 課題番号をキーにして、3つの部品を統合して一つのテーブルを作る\n",
    "- parse_grantaward_integration.ipynb\n",
    "\n",
    "### 事前準備\n",
    "- kaken_zenkadai_download.ipynbを実行して、./xmlフォルダにXMLファイルを保存しておいてください。\n",
    "- ここでは、2010年以降のデータを扱うことにしています。\n",
    "\n",
    "### 使い方\n",
    "\n",
    "- 部品を作る3つのファイルを適宜の順序で実行します。それぞれから、./afterCleaningフォルダにデータフレーム（部品）が作られ、pickle形式でファイルを保存します。\n",
    " - parse_kadai.dump\n",
    " - parse_institution_from_grantlist.dump\n",
    " - parse_member_from_summary.dump\n",
    "- 3つの部品ができたら、parse_grantaward_integration.ipynbを実行すると、一つのテーブルに結合してローカルのMariaDBに保存されます。\n",
    "\n",
    "### 今後の予定\n",
    "\n",
    "自分が眺めた範囲では、古い年代ほどデータの欠損など問題があって、前処理が必要な雰囲気なので、新しいところから始めました。時間をみつけて、2010年以前のデータもパースできるようにしたいと思っています。KAKENに研究者番号が入っているのが1985年以降なので、優先順位としてはそこが一つの境目になると思っています。84年以前は、必要に応じてやりましょう。"
   ]
  },
  {
   "cell_type": "code",
   "execution_count": null,
   "metadata": {},
   "outputs": [],
   "source": [
    "# encoding: utf-8\n",
    "from lxml import etree\n",
    "from tqdm import tqdm_notebook as tqdm\n",
    "import pandas as pd\n",
    "import numpy as np\n",
    "import pickle\n",
    "import glob\n",
    "import re"
   ]
  },
  {
   "cell_type": "markdown",
   "metadata": {},
   "source": [
    "## 研究機関を抽出する関数\n",
    "\n",
    "採択時点の研究機関を知りたい。研究機関の情報は、summaryとgrantlistにある。summaryの研究機関は課題終了時の情報になっており、grantlistには年度ごとの研究機関の情報がある。ここではgrantlistから課題ごとに最も古い年度の研究機関データを取得する"
   ]
  },
  {
   "cell_type": "code",
   "execution_count": null,
   "metadata": {},
   "outputs": [],
   "source": [
    "def institution(xmlfile):\n",
    "    tree = etree.parse(xmlfile)\n",
    "    nsmap = {\"xml\": \"http://www.w3.org/XML/1998/namespace\"}\n",
    "    institutionlist = []\n",
    "    for grantAward in tree.iterfind(\"grantAward\"):\n",
    "        awardnumber = grantAward.get(\"awardNumber\")\n",
    "        if grantAward.find(\"grantList/grant[@xml:lang='ja']\", nsmap) is None:\n",
    "            row = [\n",
    "                awardnumber,\n",
    "                np.NaN,\n",
    "                np.NaN,\n",
    "                np.NaN,\n",
    "                np.NaN,\n",
    "                np.NaN,\n",
    "                np.NaN,\n",
    "                np.NaN,\n",
    "            ]\n",
    "            institutionlist.append(row)\n",
    "        else:\n",
    "            for grant in grantAward.find(\"grantList\").iterfind(\"grant[@xml:lang='ja']\", nsmap):\n",
    "                fiscalyear = grant.get(\"fiscalYear\")\n",
    "                grant_sequence = grant.get(\"sequence\")\n",
    "                if grant.find(\"institution\") is None:\n",
    "                    row = [\n",
    "                        awardnumber,\n",
    "                        fiscalyear,\n",
    "                        grant_sequence,\n",
    "                        np.NaN,\n",
    "                        np.NaN,\n",
    "                        np.NaN,\n",
    "                        np.NaN,\n",
    "                        np.NaN,\n",
    "                    ]\n",
    "                    institutionlist.append(row)\n",
    "\n",
    "                else:\n",
    "                    for institution in grant.iterfind(\"institution\"):\n",
    "                        institution_sequence = institution.get(\"sequence\")\n",
    "                        institution_niicode = institution.get(\"niiCode\")\n",
    "                        institution_mextcode = institution.get(\"mextCode\")\n",
    "                        institution_jspscode = institution.get(\"jspsCode\")\n",
    "                        institution = institution.text\n",
    "\n",
    "                        row = [\n",
    "                            awardnumber,\n",
    "                            fiscalyear,\n",
    "                            grant_sequence,\n",
    "                            institution_sequence,\n",
    "                            institution_niicode,\n",
    "                            institution_mextcode,\n",
    "                            institution_jspscode,\n",
    "                            institution,\n",
    "                        ]\n",
    "                        institutionlist.append(row)\n",
    "        \n",
    "\n",
    "    df = pd.DataFrame(institutionlist)\n",
    "    df.columns = [\n",
    "        'awardnumber',\n",
    "        'fiscalyear',\n",
    "        'grant_sequence',\n",
    "        'institution_sequence',\n",
    "        'institution_niicode',\n",
    "        'institution_mextcode',\n",
    "        'institution_jspscode',\n",
    "        'institution',\n",
    "    ]\n",
    "    \n",
    "    pickledfile = 'pickledDF_institution_from_grantlist/' + re.search('[0-9]{4}_[0-9]+-[0-9]+.xml', xmlfile).group() + '.dump'\n",
    "    df.to_pickle(pickledfile)"
   ]
  },
  {
   "cell_type": "markdown",
   "metadata": {},
   "source": [
    "フォルダをいったんきれいにする関数を定義して、実行する"
   ]
  },
  {
   "cell_type": "code",
   "execution_count": null,
   "metadata": {},
   "outputs": [],
   "source": [
    "import os\n",
    "import shutil\n",
    "\n",
    "def cleandir(dirname):\n",
    "    if os.path.isdir(dirname):\n",
    "        shutil.rmtree(dirname)\n",
    "    os.mkdir(dirname)\n",
    "\n",
    "cleandir('pickledDF_institution_from_grantlist')"
   ]
  },
  {
   "cell_type": "markdown",
   "metadata": {},
   "source": [
    "関数を実行して、XMLファイルごとにパースして、pickleして保存する"
   ]
  },
  {
   "cell_type": "code",
   "execution_count": null,
   "metadata": {
    "scrolled": true
   },
   "outputs": [],
   "source": [
    "for xmlfile in tqdm(glob.glob('xml/201*.xml')):\n",
    "    institution(xmlfile)"
   ]
  },
  {
   "cell_type": "markdown",
   "metadata": {},
   "source": [
    "保存したpickleを読み込んで、データフレームを全部連結する"
   ]
  },
  {
   "cell_type": "code",
   "execution_count": null,
   "metadata": {},
   "outputs": [],
   "source": [
    "columns = [\n",
    "    'awardnumber',\n",
    "    'fiscalyear',\n",
    "    'grant_sequence',\n",
    "    'institution_sequence',\n",
    "    'institution_niicode',\n",
    "    'institution_mextcode',\n",
    "    'institution_jspscode',\n",
    "    'institution',\n",
    "]\n",
    "df = pd.DataFrame(columns=columns)\n",
    "\n",
    "for dump in tqdm(glob.glob('pickledDF_institution_from_grantlist//*.dump')):\n",
    "    with open(dump, mode='rb') as f:\n",
    "        df = pd.concat([df, pickle.load(f)])"
   ]
  },
  {
   "cell_type": "markdown",
   "metadata": {},
   "source": [
    "連結したデータフレームをいったんpickleして保存"
   ]
  },
  {
   "cell_type": "code",
   "execution_count": null,
   "metadata": {},
   "outputs": [],
   "source": [
    "df.to_pickle('beforeCleaning/parse_institution_from_grantlist.dump')"
   ]
  },
  {
   "cell_type": "markdown",
   "metadata": {},
   "source": [
    "### データクリーニング"
   ]
  },
  {
   "cell_type": "markdown",
   "metadata": {},
   "source": [
    "pickleからデータフレームを復元する"
   ]
  },
  {
   "cell_type": "code",
   "execution_count": null,
   "metadata": {},
   "outputs": [],
   "source": [
    "with open('beforeCleaning/parse_institution_from_grantlist.dump', mode='rb') as f:\n",
    "    df = pickle.load(f)"
   ]
  },
  {
   "cell_type": "code",
   "execution_count": null,
   "metadata": {},
   "outputs": [],
   "source": [
    "df.info()"
   ]
  },
  {
   "cell_type": "markdown",
   "metadata": {},
   "source": [
    "nullを0で置換する"
   ]
  },
  {
   "cell_type": "code",
   "execution_count": null,
   "metadata": {},
   "outputs": [],
   "source": [
    "df = df.fillna(0)\n",
    "df.info()"
   ]
  },
  {
   "cell_type": "markdown",
   "metadata": {},
   "source": [
    "intに指定"
   ]
  },
  {
   "cell_type": "code",
   "execution_count": null,
   "metadata": {},
   "outputs": [],
   "source": [
    "df = df.astype({\n",
    "    'fiscalyear': np.int64,\n",
    "    'grant_sequence': np.int64,\n",
    "    'institution_sequence': np.int64,\n",
    "    'institution_niicode': np.int64,\n",
    "    'institution_mextcode': np.int64,\n",
    "    'institution_jspscode': np.int64,    \n",
    "})\n",
    "df.info()"
   ]
  },
  {
   "cell_type": "markdown",
   "metadata": {},
   "source": [
    "awardnumberごとにfiscalyearが最小の行を取得する。"
   ]
  },
  {
   "cell_type": "code",
   "execution_count": null,
   "metadata": {
    "scrolled": true
   },
   "outputs": [],
   "source": [
    "oldest = df.groupby('awardnumber')['fiscalyear'].min().reset_index()\n",
    "oldest"
   ]
  },
  {
   "cell_type": "markdown",
   "metadata": {},
   "source": [
    "institutionを連結する"
   ]
  },
  {
   "cell_type": "code",
   "execution_count": null,
   "metadata": {
    "scrolled": true
   },
   "outputs": [],
   "source": [
    "df = pd.merge(oldest, df, on=['awardnumber', 'fiscalyear'])\n",
    "df"
   ]
  },
  {
   "cell_type": "markdown",
   "metadata": {},
   "source": [
    "重複したデータがあるかどうか"
   ]
  },
  {
   "cell_type": "code",
   "execution_count": null,
   "metadata": {},
   "outputs": [],
   "source": [
    "df.duplicated().any()"
   ]
  },
  {
   "cell_type": "markdown",
   "metadata": {},
   "source": [
    "重複はなかった（あったら何かが違う）。\n",
    "\n",
    "awardnumberがユニークかどうか確認するために、行数255813とawardnumberのユニークな値の数が一致するかどうか確認する。"
   ]
  },
  {
   "cell_type": "code",
   "execution_count": null,
   "metadata": {
    "scrolled": true
   },
   "outputs": [],
   "source": [
    "df['awardnumber'].nunique(dropna=False)"
   ]
  },
  {
   "cell_type": "markdown",
   "metadata": {},
   "source": [
    "awardnumberはユニークだったので（ユニークじゃなかったら何かが違う）、インデックスにする。"
   ]
  },
  {
   "cell_type": "code",
   "execution_count": null,
   "metadata": {},
   "outputs": [],
   "source": [
    "df = df.set_index('awardnumber')\n",
    "df"
   ]
  },
  {
   "cell_type": "markdown",
   "metadata": {},
   "source": [
    "grantsequenceなど、各列のデータの様子を概観する"
   ]
  },
  {
   "cell_type": "code",
   "execution_count": null,
   "metadata": {
    "scrolled": true
   },
   "outputs": [],
   "source": [
    "pd.crosstab(df['grant_sequence'], df['fiscalyear'], margins=True)"
   ]
  },
  {
   "cell_type": "code",
   "execution_count": null,
   "metadata": {
    "scrolled": true
   },
   "outputs": [],
   "source": [
    "pd.crosstab(df['institution_sequence'], df['fiscalyear'], margins=True)"
   ]
  },
  {
   "cell_type": "code",
   "execution_count": null,
   "metadata": {
    "scrolled": true
   },
   "outputs": [],
   "source": [
    "pd.crosstab(df['institution_niicode'], df['fiscalyear'], margins=True)"
   ]
  },
  {
   "cell_type": "code",
   "execution_count": null,
   "metadata": {
    "scrolled": true
   },
   "outputs": [],
   "source": [
    "pd.crosstab(df['institution_mextcode'], df['fiscalyear'], margins=True)"
   ]
  },
  {
   "cell_type": "code",
   "execution_count": null,
   "metadata": {
    "scrolled": true
   },
   "outputs": [],
   "source": [
    "pd.crosstab(df['institution_jspscode'], df['fiscalyear'], margins=True)"
   ]
  },
  {
   "cell_type": "markdown",
   "metadata": {},
   "source": [
    "niicode、mextcode、jspscodeで比較して、コード0が最も少ないのはniicodeだった。これからniicodeを使うことにする。"
   ]
  },
  {
   "cell_type": "markdown",
   "metadata": {},
   "source": [
    "研究機関名institutionとniicodeの対応状況を見る。たとえば京大だと…"
   ]
  },
  {
   "cell_type": "code",
   "execution_count": null,
   "metadata": {
    "scrolled": true
   },
   "outputs": [],
   "source": [
    "kyodai = df[df['institution_niicode'] == 14301]\n",
    "pd.crosstab(kyodai['institution'], kyodai['institution_niicode'])"
   ]
  },
  {
   "cell_type": "markdown",
   "metadata": {},
   "source": [
    "研究機関名institutionとniicodeの対応状況を見る。たとえば東大だと…"
   ]
  },
  {
   "cell_type": "code",
   "execution_count": null,
   "metadata": {
    "scrolled": true
   },
   "outputs": [],
   "source": [
    "todai = df[df['institution_niicode'] == 12601]\n",
    "pd.crosstab(todai['institution'], todai['institution_niicode'])"
   ]
  },
  {
   "cell_type": "code",
   "execution_count": null,
   "metadata": {},
   "outputs": [],
   "source": [
    "df.query('institution_niicode == 12601 & institution == \"秋田県立大学\"')"
   ]
  },
  {
   "cell_type": "code",
   "execution_count": null,
   "metadata": {},
   "outputs": [],
   "source": [
    "df.query('institution_niicode == 12601 & institution == \"鹿児島大学\"')"
   ]
  },
  {
   "cell_type": "markdown",
   "metadata": {},
   "source": [
    "数件違うけど、調べてみたら、内定の前後で異動している人のようだ。niicodeをベースにすることにする。"
   ]
  },
  {
   "cell_type": "markdown",
   "metadata": {},
   "source": [
    "ここまでで中間データをいったんpickleして保存"
   ]
  },
  {
   "cell_type": "code",
   "execution_count": null,
   "metadata": {},
   "outputs": [],
   "source": [
    "df.to_pickle('afterCleaning/parse_institution_from_grantlist.dump')"
   ]
  },
  {
   "cell_type": "markdown",
   "metadata": {},
   "source": [
    "ひとまず終了。\n",
    "\n",
    "次は、parse_grantaward_member_from_summary.ipynbで内定時の研究代表者を取得する。"
   ]
  }
 ],
 "metadata": {
  "kernelspec": {
   "display_name": "Python 3",
   "language": "python",
   "name": "python3"
  },
  "language_info": {
   "codemirror_mode": {
    "name": "ipython",
    "version": 3
   },
   "file_extension": ".py",
   "mimetype": "text/x-python",
   "name": "python",
   "nbconvert_exporter": "python",
   "pygments_lexer": "ipython3",
   "version": "3.6.6"
  }
 },
 "nbformat": 4,
 "nbformat_minor": 2
}
