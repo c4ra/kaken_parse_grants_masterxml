{
 "cells": [
  {
   "cell_type": "markdown",
   "metadata": {},
   "source": [
    "# KAKENの審査区分マスタをローカルのMariaDBに保存するプログラム"
   ]
  },
  {
   "cell_type": "markdown",
   "metadata": {},
   "source": [
    "## 事前準備\n",
    "\n",
    "- KAKENマスタデータは、git のリポジトリで管理されており、最新のデータを利用可能。\n",
    "- https://bitbucket.org/niijp/grants_masterxml_kaken/ からリポジトリを pull して、ローカルの ./grants_masterxml_kaken フォルダに同期しておく。\n",
    "- ローカルで MariaDB を動かしておく。\n",
    "- MariaDB のユーザ名、パスワード、データベース名は、config.ipynbを使って ./config.ini として保存しておく。"
   ]
  },
  {
   "cell_type": "markdown",
   "metadata": {},
   "source": [
    "## ここから本編\n",
    "\n",
    "bitbucketから読み込んだマスタのXMLファイルをelementTreeに変換"
   ]
  },
  {
   "cell_type": "code",
   "execution_count": null,
   "metadata": {},
   "outputs": [],
   "source": [
    "from lxml import etree\n",
    "import pandas as pd\n",
    "import numpy as np"
   ]
  },
  {
   "cell_type": "code",
   "execution_count": null,
   "metadata": {},
   "outputs": [],
   "source": [
    "tree = etree.parse('grants_masterxml_kaken/review_section_master_kakenhi.xml')\n",
    "\n",
    "review_sectionlist = []\n",
    "for review_section_table in tree.iterfind(\"review_section_table\"):\n",
    "    review_section_table_type = review_section_table.get(\"type\")\n",
    "    review_section_table_start_date = review_section_table.get(\"start_date\")\n",
    "    review_section_table_end_date = review_section_table.get(\"end_date\")\n",
    "    \n",
    "    for review_section in review_section_table.iterfind(\"review_section\"):\n",
    "        review_section_path = review_section.get(\"path\")\n",
    "        review_section_niicode = review_section.find(\"code[@type='nii']\").text\n",
    "        review_section_name = review_section.find(\"name[@lang='ja']\").text\n",
    "        row = [\n",
    "            review_section_table_type,\n",
    "            review_section_table_start_date,\n",
    "            review_section_table_end_date,\n",
    "            review_section_path,\n",
    "            review_section_niicode,\n",
    "            review_section_name,\n",
    "            1,\n",
    "        ]\n",
    "        review_sectionlist.append(row)\n",
    "\n",
    "        for review_section in review_section.iterfind(\"review_section\"):\n",
    "            review_section_path = review_section.get(\"path\")\n",
    "            review_section_niicode = review_section.find(\"code[@type='nii']\").text\n",
    "            review_section_name = review_section.find(\"name[@lang='ja']\").text\n",
    "            row = [\n",
    "                review_section_table_type,\n",
    "                review_section_table_start_date,\n",
    "                review_section_table_end_date,\n",
    "                review_section_path,\n",
    "                review_section_niicode,\n",
    "                review_section_name,\n",
    "                2,\n",
    "            ]\n",
    "            review_sectionlist.append(row)\n",
    "                \n",
    "            for review_section in review_section.iterfind(\"review_section\"):\n",
    "                review_section_path = review_section.get(\"path\")\n",
    "                review_section_niicode = review_section.find(\"code[@type='nii']\").text\n",
    "                review_section_name = review_section.find(\"name[@lang='ja']\").text\n",
    "                row = [\n",
    "                    review_section_table_type,\n",
    "                    review_section_table_start_date,\n",
    "                    review_section_table_end_date,\n",
    "                    review_section_path,\n",
    "                    review_section_niicode,\n",
    "                    review_section_name,\n",
    "                    3,\n",
    "                ]\n",
    "                review_sectionlist.append(row)\n",
    "\n",
    "df = pd.DataFrame(review_sectionlist)\n",
    "df.columns = [\n",
    "    'review_section_table_type',\n",
    "    'review_section_table_start_date',\n",
    "    'review_section_table_end_date',\n",
    "    'review_section_path',\n",
    "    'review_section_niicode',\n",
    "    'review_section_name',\n",
    "    'layer',\n",
    "]"
   ]
  },
  {
   "cell_type": "code",
   "execution_count": null,
   "metadata": {},
   "outputs": [],
   "source": [
    "df['review_section_table_start_date'] = pd.to_datetime(df['review_section_table_start_date'])\n",
    "df['review_section_table_end_date'] = pd.to_datetime(df['review_section_table_end_date'])\n",
    "df = df.astype({\n",
    "    'review_section_niicode': int,\n",
    "    'layer': int,\n",
    "})"
   ]
  },
  {
   "cell_type": "code",
   "execution_count": null,
   "metadata": {},
   "outputs": [],
   "source": [
    "df.info()"
   ]
  },
  {
   "cell_type": "markdown",
   "metadata": {},
   "source": [
    "ローカルのmariaDBに関する設定ファイルを読み込みして、データベースにテーブル構造とデータの中身を書き込む"
   ]
  },
  {
   "cell_type": "code",
   "execution_count": null,
   "metadata": {
    "scrolled": true
   },
   "outputs": [],
   "source": [
    "import configparser\n",
    "\n",
    "config = configparser.ConfigParser()\n",
    "config.read('../settings/config.ini')\n",
    "username = config['mariadb']['username']\n",
    "password = config['mariadb']['password']\n",
    "database = config['mariadb']['database']\n",
    "url = 'mysql+pymysql://' + username + ':' + password + '@localhost:3306/' + database + '?charset=utf8'\n",
    "\n",
    "from sqlalchemy import create_engine\n",
    "from sqlalchemy.types import String, Integer, Date\n",
    "\n",
    "engine = create_engine(url, echo=True)\n",
    "df.to_sql('kaken_master_review_section', engine, if_exists='replace',\n",
    "          dtype={\n",
    "              'review_section_table_type' : String(256),\n",
    "              'review_section_table_start_date': Date,\n",
    "              'review_section_table_end_date': Date,\n",
    "              'review_section_path': String(256),\n",
    "              'review_section_niicode': Integer ,\n",
    "              'review_section_name': String(256),\n",
    "              'layer': Integer,\n",
    "          })"
   ]
  },
  {
   "cell_type": "markdown",
   "metadata": {},
   "source": [
    "## おしまい\n",
    "\n",
    "データがコミットされていれば終了。HeidiSQLなどで、上記ドロップ済みデータフレームの件数が登録されているか確認する。"
   ]
  }
 ],
 "metadata": {
  "kernelspec": {
   "display_name": "Python 3",
   "language": "python",
   "name": "python3"
  },
  "language_info": {
   "codemirror_mode": {
    "name": "ipython",
    "version": 3
   },
   "file_extension": ".py",
   "mimetype": "text/x-python",
   "name": "python",
   "nbconvert_exporter": "python",
   "pygments_lexer": "ipython3",
   "version": "3.6.5"
  }
 },
 "nbformat": 4,
 "nbformat_minor": 2
}
